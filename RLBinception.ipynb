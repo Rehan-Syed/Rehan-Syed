{
  "nbformat": 4,
  "nbformat_minor": 0,
  "metadata": {
    "colab": {
      "name": "RLBinception.ipynb",
      "provenance": [],
      "mount_file_id": "1tASLUAm-dHefRySlbFXYTxgs5Fk7KOCT",
      "authorship_tag": "ABX9TyPDvAxjVpsF+Rqv4k7VwqNu",
      "include_colab_link": true
    },
    "kernelspec": {
      "name": "python3",
      "display_name": "Python 3"
    },
    "language_info": {
      "name": "python"
    },
    "accelerator": "GPU"
  },
  "cells": [
    {
      "cell_type": "markdown",
      "metadata": {
        "id": "view-in-github",
        "colab_type": "text"
      },
      "source": [
        "<a href=\"https://colab.research.google.com/github/Rehan-Syed/Rehan-Syed/blob/main/RLBinception.ipynb\" target=\"_parent\"><img src=\"https://colab.research.google.com/assets/colab-badge.svg\" alt=\"Open In Colab\"/></a>"
      ]
    },
    {
      "cell_type": "code",
      "execution_count": 1,
      "metadata": {
        "id": "hzMDOOn7sPFS"
      },
      "outputs": [],
      "source": [
        "import os\n",
        "from glob import glob\n",
        "import numpy as np\n",
        "import matplotlib.pyplot as plt\n",
        "from tensorflow.keras.layers import Input, Lambda, Dense, Flatten, Dropout\n",
        "from tensorflow.keras.models import Model\n",
        "from tensorflow.keras.applications.inception_v3 import InceptionV3\n",
        "from tensorflow.keras.applications.inception_v3 import preprocess_input\n",
        "from tensorflow.keras.preprocessing import image\n",
        "from tensorflow.keras.preprocessing.image import ImageDataGenerator,load_img\n",
        "from tensorflow.keras.models import Sequential\n",
        "from tensorflow.keras.callbacks import ModelCheckpoint,EarlyStopping\n",
        "#from tensorflow.keras.metrics import Accuracy, FalsePositives, TruePositives, TrueNegatives, Precision, Recall\n",
        "from sklearn.datasets import make_circles\n",
        "from sklearn.metrics import accuracy_score\n",
        "from sklearn.metrics import precision_score\n",
        "from sklearn.metrics import recall_score\n",
        "from sklearn.metrics import f1_score\n",
        "from sklearn.metrics import cohen_kappa_score\n",
        "from sklearn.metrics import roc_auc_score\n",
        "from sklearn.metrics import confusion_matrix\n"
      ]
    },
    {
      "cell_type": "code",
      "source": [
        "size =[256,256]"
      ],
      "metadata": {
        "id": "SHBt0a7htXh7"
      },
      "execution_count": null,
      "outputs": []
    },
    {
      "cell_type": "code",
      "source": [
        "inception = InceptionV3(input_shape=size + [3], weights='imagenet', include_top=False,fine_tune=2)"
      ],
      "metadata": {
        "id": "_e8qKCWxsRAr"
      },
      "execution_count": null,
      "outputs": []
    },
    {
      "cell_type": "code",
      "source": [
        ""
      ],
      "metadata": {
        "id": "kLJNmU5_tkZI"
      },
      "execution_count": null,
      "outputs": []
    },
    {
      "cell_type": "code",
      "source": [
        "for layer in inception.layers:\n",
        "    layer.trainable = False"
      ],
      "metadata": {
        "id": "DXvNbyQisVF_"
      },
      "execution_count": null,
      "outputs": []
    },
    {
      "cell_type": "code",
      "source": [
        "x = Flatten()(inception.output)"
      ],
      "metadata": {
        "id": "SmDAWnHBsWBf"
      },
      "execution_count": null,
      "outputs": []
    },
    {
      "cell_type": "code",
      "source": [
        "prediction = Dense(2, activation='softmax')(x)\n",
        "model = Model(inputs=inception.input, outputs=prediction)"
      ],
      "metadata": {
        "id": "N_SIwJ31sYRJ"
      },
      "execution_count": null,
      "outputs": []
    },
    {
      "cell_type": "code",
      "source": [
        "model.summary()"
      ],
      "metadata": {
        "id": "Pd35PpH6sbOI"
      },
      "execution_count": null,
      "outputs": []
    },
    {
      "cell_type": "code",
      "source": [
        "model.compile(\n",
        "  loss='categorical_crossentropy',\n",
        "  optimizer='adam',\n",
        "  metrics=['accuracy']\n",
        ")"
      ],
      "metadata": {
        "id": "B_GAxsMvsfy1"
      },
      "execution_count": null,
      "outputs": []
    },
    {
      "cell_type": "code",
      "source": [
        "from tensorflow.keras.preprocessing.image import ImageDataGenerator\n",
        "\n",
        "train_datagen = ImageDataGenerator(\n",
        "                                   rescale = 1./255,\n",
        "                                   shear_range = 0.2,\n",
        "                                   zoom_range = 0.2,\n",
        "                                   #zca_whitening = True\n",
        "                                   horizontal_flip = True\n",
        "                                   )\n",
        "\n",
        "test_datagen = ImageDataGenerator(rescale = 1./255\n",
        "                                  )"
      ],
      "metadata": {
        "id": "INsC9Y3tsgTY"
      },
      "execution_count": 2,
      "outputs": []
    },
    {
      "cell_type": "code",
      "source": [
        "training_set = train_datagen.flow_from_directory('/content/drive/MyDrive/Actual-Dataset/Test',\n",
        "                                                 target_size = (256, 256),\n",
        "                                                 batch_size = 32,\n",
        "                                                 class_mode = 'categorical')"
      ],
      "metadata": {
        "colab": {
          "base_uri": "https://localhost:8080/"
        },
        "id": "NgZZiUAWsqmP",
        "outputId": "ced4f48f-7188-40a5-89e7-de416d0d96ea"
      },
      "execution_count": 3,
      "outputs": [
        {
          "output_type": "stream",
          "name": "stdout",
          "text": [
            "Found 510 images belonging to 2 classes.\n"
          ]
        }
      ]
    },
    {
      "cell_type": "code",
      "source": [
        ""
      ],
      "metadata": {
        "id": "--MKRTgZstg3"
      },
      "execution_count": null,
      "outputs": []
    },
    {
      "cell_type": "code",
      "source": [
        "test_set = train_datagen.flow_from_directory('/content/drive/MyDrive/Actual-Dataset/Train',\n",
        "                                            target_size = (256, 256),\n",
        "                                            batch_size = 32,\n",
        "                                            class_mode = 'categorical')"
      ],
      "metadata": {
        "colab": {
          "base_uri": "https://localhost:8080/"
        },
        "id": "slCKM0CBsu96",
        "outputId": "b609cdcb-afc7-449c-9b3d-db9c3cdb2208"
      },
      "execution_count": 4,
      "outputs": [
        {
          "output_type": "stream",
          "name": "stdout",
          "text": [
            "Found 1060 images belonging to 2 classes.\n"
          ]
        }
      ]
    },
    {
      "cell_type": "code",
      "source": [
        "checkpoint=ModelCheckpoint('/content/drive/MyDrive/Actual-Dataset/INCEPTIONV#.h5',\n",
        "                          monitor='val_accuracy',\n",
        "                          mode='auto',\n",
        "                          save_best_only=True,\n",
        "                          verbose=1\n",
        "                           )\n",
        "earlystop=EarlyStopping(monitor='val_loss',\n",
        "                       min_delta=0,\n",
        "                       patience=100,\n",
        "                       verbose=1,\n",
        "                       restore_best_weights=True\n",
        "                      )\n",
        "\n",
        "callbacks=[checkpoint,earlystop]"
      ],
      "metadata": {
        "id": "dyUxaNXBsyPy"
      },
      "execution_count": 5,
      "outputs": []
    },
    {
      "cell_type": "code",
      "source": [
        "history = model.fit_generator(\n",
        "  training_set,\n",
        "  validation_data=test_set,\n",
        "  epochs=50,\n",
        "  callbacks= callbacks,\n",
        "  steps_per_epoch=len(training_set),\n",
        "  validation_steps=len(test_set)\n",
        ")"
      ],
      "metadata": {
        "colab": {
          "base_uri": "https://localhost:8080/"
        },
        "id": "Dzp_OVwNszBl",
        "outputId": "92a325de-847c-4247-a95f-8a3f6b7552be"
      },
      "execution_count": null,
      "outputs": [
        {
          "output_type": "stream",
          "name": "stderr",
          "text": [
            "/usr/local/lib/python3.7/dist-packages/ipykernel_launcher.py:7: UserWarning: `Model.fit_generator` is deprecated and will be removed in a future version. Please use `Model.fit`, which supports generators.\n",
            "  import sys\n"
          ]
        },
        {
          "output_type": "stream",
          "name": "stdout",
          "text": [
            "Epoch 1/50\n",
            "16/16 [==============================] - ETA: 0s - loss: 14.1018 - accuracy: 0.6922\n",
            "Epoch 1: val_accuracy improved from -inf to 0.79412, saving model to /content/drive/MyDrive/Actual-Dataset/INCEPTIONV#.h5\n",
            "16/16 [==============================] - 18s 861ms/step - loss: 14.1018 - accuracy: 0.6922 - val_loss: 9.3355 - val_accuracy: 0.7941\n",
            "Epoch 2/50\n",
            "16/16 [==============================] - ETA: 0s - loss: 6.3198 - accuracy: 0.8157\n",
            "Epoch 2: val_accuracy improved from 0.79412 to 0.87451, saving model to /content/drive/MyDrive/Actual-Dataset/INCEPTIONV#.h5\n",
            "16/16 [==============================] - 11s 712ms/step - loss: 6.3198 - accuracy: 0.8157 - val_loss: 4.5020 - val_accuracy: 0.8745\n",
            "Epoch 3/50\n",
            "16/16 [==============================] - ETA: 0s - loss: 4.1280 - accuracy: 0.8784\n",
            "Epoch 3: val_accuracy did not improve from 0.87451\n",
            "16/16 [==============================] - 11s 664ms/step - loss: 4.1280 - accuracy: 0.8784 - val_loss: 3.9989 - val_accuracy: 0.8745\n",
            "Epoch 4/50\n",
            "16/16 [==============================] - ETA: 0s - loss: 3.2598 - accuracy: 0.8843\n",
            "Epoch 4: val_accuracy improved from 0.87451 to 0.91765, saving model to /content/drive/MyDrive/Actual-Dataset/INCEPTIONV#.h5\n",
            "16/16 [==============================] - 11s 723ms/step - loss: 3.2598 - accuracy: 0.8843 - val_loss: 2.7853 - val_accuracy: 0.9176\n",
            "Epoch 5/50\n",
            "16/16 [==============================] - ETA: 0s - loss: 2.3486 - accuracy: 0.8980\n",
            "Epoch 5: val_accuracy did not improve from 0.91765\n",
            "16/16 [==============================] - 10s 658ms/step - loss: 2.3486 - accuracy: 0.8980 - val_loss: 2.1217 - val_accuracy: 0.9176\n",
            "Epoch 6/50\n",
            "16/16 [==============================] - ETA: 0s - loss: 2.7243 - accuracy: 0.9000\n",
            "Epoch 6: val_accuracy did not improve from 0.91765\n",
            "16/16 [==============================] - 10s 637ms/step - loss: 2.7243 - accuracy: 0.9000 - val_loss: 2.5694 - val_accuracy: 0.9176\n",
            "Epoch 7/50\n",
            "16/16 [==============================] - ETA: 0s - loss: 2.8037 - accuracy: 0.9000\n",
            "Epoch 7: val_accuracy did not improve from 0.91765\n",
            "16/16 [==============================] - 10s 630ms/step - loss: 2.8037 - accuracy: 0.9000 - val_loss: 2.3819 - val_accuracy: 0.9157\n",
            "Epoch 8/50\n",
            "16/16 [==============================] - ETA: 0s - loss: 1.6521 - accuracy: 0.9314\n",
            "Epoch 8: val_accuracy improved from 0.91765 to 0.93725, saving model to /content/drive/MyDrive/Actual-Dataset/INCEPTIONV#.h5\n",
            "16/16 [==============================] - 12s 734ms/step - loss: 1.6521 - accuracy: 0.9314 - val_loss: 1.5736 - val_accuracy: 0.9373\n",
            "Epoch 9/50\n",
            "16/16 [==============================] - ETA: 0s - loss: 1.6936 - accuracy: 0.9294\n",
            "Epoch 9: val_accuracy improved from 0.93725 to 0.93922, saving model to /content/drive/MyDrive/Actual-Dataset/INCEPTIONV#.h5\n",
            "16/16 [==============================] - 12s 745ms/step - loss: 1.6936 - accuracy: 0.9294 - val_loss: 1.5657 - val_accuracy: 0.9392\n",
            "Epoch 10/50\n",
            "16/16 [==============================] - ETA: 0s - loss: 1.5284 - accuracy: 0.9294\n",
            "Epoch 10: val_accuracy improved from 0.93922 to 0.94706, saving model to /content/drive/MyDrive/Actual-Dataset/INCEPTIONV#.h5\n",
            "16/16 [==============================] - 12s 731ms/step - loss: 1.5284 - accuracy: 0.9294 - val_loss: 0.8289 - val_accuracy: 0.9471\n",
            "Epoch 11/50\n",
            "16/16 [==============================] - ETA: 0s - loss: 1.2034 - accuracy: 0.9333\n",
            "Epoch 11: val_accuracy improved from 0.94706 to 0.95098, saving model to /content/drive/MyDrive/Actual-Dataset/INCEPTIONV#.h5\n",
            "16/16 [==============================] - 11s 695ms/step - loss: 1.2034 - accuracy: 0.9333 - val_loss: 0.9678 - val_accuracy: 0.9510\n",
            "Epoch 12/50\n",
            "16/16 [==============================] - ETA: 0s - loss: 1.4447 - accuracy: 0.9314\n",
            "Epoch 12: val_accuracy improved from 0.95098 to 0.95882, saving model to /content/drive/MyDrive/Actual-Dataset/INCEPTIONV#.h5\n",
            "16/16 [==============================] - 11s 711ms/step - loss: 1.4447 - accuracy: 0.9314 - val_loss: 0.7737 - val_accuracy: 0.9588\n",
            "Epoch 13/50\n",
            "16/16 [==============================] - ETA: 0s - loss: 1.1351 - accuracy: 0.9373\n",
            "Epoch 13: val_accuracy improved from 0.95882 to 0.96275, saving model to /content/drive/MyDrive/Actual-Dataset/INCEPTIONV#.h5\n",
            "16/16 [==============================] - 11s 712ms/step - loss: 1.1351 - accuracy: 0.9373 - val_loss: 0.5372 - val_accuracy: 0.9627\n",
            "Epoch 14/50\n",
            "16/16 [==============================] - ETA: 0s - loss: 1.0611 - accuracy: 0.9412\n",
            "Epoch 14: val_accuracy did not improve from 0.96275\n",
            "16/16 [==============================] - 10s 647ms/step - loss: 1.0611 - accuracy: 0.9412 - val_loss: 0.5749 - val_accuracy: 0.9627\n",
            "Epoch 15/50\n",
            "16/16 [==============================] - ETA: 0s - loss: 1.0236 - accuracy: 0.9392\n",
            "Epoch 15: val_accuracy improved from 0.96275 to 0.97059, saving model to /content/drive/MyDrive/Actual-Dataset/INCEPTIONV#.h5\n",
            "16/16 [==============================] - 11s 720ms/step - loss: 1.0236 - accuracy: 0.9392 - val_loss: 0.4144 - val_accuracy: 0.9706\n",
            "Epoch 16/50\n",
            "16/16 [==============================] - ETA: 0s - loss: 1.1314 - accuracy: 0.9431\n",
            "Epoch 16: val_accuracy did not improve from 0.97059\n",
            "16/16 [==============================] - 10s 647ms/step - loss: 1.1314 - accuracy: 0.9431 - val_loss: 0.6753 - val_accuracy: 0.9667\n",
            "Epoch 17/50\n",
            "16/16 [==============================] - ETA: 0s - loss: 0.8147 - accuracy: 0.9471\n",
            "Epoch 17: val_accuracy did not improve from 0.97059\n",
            "16/16 [==============================] - 10s 629ms/step - loss: 0.8147 - accuracy: 0.9471 - val_loss: 0.9053 - val_accuracy: 0.9569\n",
            "Epoch 18/50\n",
            "16/16 [==============================] - ETA: 0s - loss: 0.9650 - accuracy: 0.9627\n",
            "Epoch 18: val_accuracy improved from 0.97059 to 0.97647, saving model to /content/drive/MyDrive/Actual-Dataset/INCEPTIONV#.h5\n",
            "16/16 [==============================] - 11s 714ms/step - loss: 0.9650 - accuracy: 0.9627 - val_loss: 0.4623 - val_accuracy: 0.9765\n",
            "Epoch 19/50\n",
            "16/16 [==============================] - ETA: 0s - loss: 0.6387 - accuracy: 0.9686\n",
            "Epoch 19: val_accuracy did not improve from 0.97647\n",
            "16/16 [==============================] - 10s 637ms/step - loss: 0.6387 - accuracy: 0.9686 - val_loss: 1.7875 - val_accuracy: 0.9098\n",
            "Epoch 20/50\n",
            "16/16 [==============================] - ETA: 0s - loss: 1.2136 - accuracy: 0.9353\n",
            "Epoch 20: val_accuracy did not improve from 0.97647\n",
            "16/16 [==============================] - 10s 633ms/step - loss: 1.2136 - accuracy: 0.9353 - val_loss: 0.8602 - val_accuracy: 0.9490\n",
            "Epoch 21/50\n",
            "16/16 [==============================] - ETA: 0s - loss: 0.9269 - accuracy: 0.9588\n",
            "Epoch 21: val_accuracy did not improve from 0.97647\n",
            "16/16 [==============================] - 10s 632ms/step - loss: 0.9269 - accuracy: 0.9588 - val_loss: 0.6217 - val_accuracy: 0.9706\n",
            "Epoch 22/50\n",
            "16/16 [==============================] - ETA: 0s - loss: 0.7667 - accuracy: 0.9667\n",
            "Epoch 22: val_accuracy improved from 0.97647 to 0.97843, saving model to /content/drive/MyDrive/Actual-Dataset/INCEPTIONV#.h5\n",
            "16/16 [==============================] - 11s 711ms/step - loss: 0.7667 - accuracy: 0.9667 - val_loss: 0.4563 - val_accuracy: 0.9784\n",
            "Epoch 23/50\n",
            "16/16 [==============================] - ETA: 0s - loss: 0.5376 - accuracy: 0.9627\n",
            "Epoch 23: val_accuracy did not improve from 0.97843\n",
            "16/16 [==============================] - 10s 638ms/step - loss: 0.5376 - accuracy: 0.9627 - val_loss: 0.6403 - val_accuracy: 0.9569\n",
            "Epoch 24/50\n",
            "16/16 [==============================] - ETA: 0s - loss: 0.8915 - accuracy: 0.9412\n",
            "Epoch 24: val_accuracy did not improve from 0.97843\n",
            "16/16 [==============================] - 10s 650ms/step - loss: 0.8915 - accuracy: 0.9412 - val_loss: 0.2614 - val_accuracy: 0.9784\n",
            "Epoch 25/50\n",
            "16/16 [==============================] - ETA: 0s - loss: 0.6849 - accuracy: 0.9647\n",
            "Epoch 25: val_accuracy did not improve from 0.97843\n",
            "16/16 [==============================] - 10s 630ms/step - loss: 0.6849 - accuracy: 0.9647 - val_loss: 0.1942 - val_accuracy: 0.9784\n",
            "Epoch 26/50\n",
            "16/16 [==============================] - ETA: 0s - loss: 0.4449 - accuracy: 0.9647\n",
            "Epoch 26: val_accuracy improved from 0.97843 to 0.98039, saving model to /content/drive/MyDrive/Actual-Dataset/INCEPTIONV#.h5\n",
            "16/16 [==============================] - 11s 712ms/step - loss: 0.4449 - accuracy: 0.9647 - val_loss: 0.2110 - val_accuracy: 0.9804\n",
            "Epoch 27/50\n",
            "16/16 [==============================] - ETA: 0s - loss: 0.5192 - accuracy: 0.9706\n",
            "Epoch 27: val_accuracy did not improve from 0.98039\n",
            "16/16 [==============================] - 10s 647ms/step - loss: 0.5192 - accuracy: 0.9706 - val_loss: 0.4354 - val_accuracy: 0.9725\n",
            "Epoch 28/50\n",
            "16/16 [==============================] - ETA: 0s - loss: 0.8466 - accuracy: 0.9549\n",
            "Epoch 28: val_accuracy did not improve from 0.98039\n",
            "16/16 [==============================] - 10s 634ms/step - loss: 0.8466 - accuracy: 0.9549 - val_loss: 0.3085 - val_accuracy: 0.9784\n",
            "Epoch 29/50\n",
            "16/16 [==============================] - ETA: 0s - loss: 0.5167 - accuracy: 0.9627\n",
            "Epoch 29: val_accuracy did not improve from 0.98039\n",
            "16/16 [==============================] - 10s 631ms/step - loss: 0.5167 - accuracy: 0.9627 - val_loss: 0.4889 - val_accuracy: 0.9745\n",
            "Epoch 30/50\n",
            "16/16 [==============================] - ETA: 0s - loss: 0.7159 - accuracy: 0.9569\n",
            "Epoch 30: val_accuracy did not improve from 0.98039\n",
            "16/16 [==============================] - 10s 637ms/step - loss: 0.7159 - accuracy: 0.9569 - val_loss: 0.4810 - val_accuracy: 0.9765\n",
            "Epoch 31/50\n",
            "16/16 [==============================] - ETA: 0s - loss: 0.9558 - accuracy: 0.9647\n",
            "Epoch 31: val_accuracy did not improve from 0.98039\n",
            "16/16 [==============================] - 10s 624ms/step - loss: 0.9558 - accuracy: 0.9647 - val_loss: 0.5248 - val_accuracy: 0.9765\n",
            "Epoch 32/50\n",
            "16/16 [==============================] - ETA: 0s - loss: 0.5724 - accuracy: 0.9667\n",
            "Epoch 32: val_accuracy improved from 0.98039 to 0.98627, saving model to /content/drive/MyDrive/Actual-Dataset/INCEPTIONV#.h5\n",
            "16/16 [==============================] - 11s 707ms/step - loss: 0.5724 - accuracy: 0.9667 - val_loss: 0.2670 - val_accuracy: 0.9863\n",
            "Epoch 33/50\n",
            "16/16 [==============================] - ETA: 0s - loss: 0.3481 - accuracy: 0.9647\n",
            "Epoch 33: val_accuracy did not improve from 0.98627\n",
            "16/16 [==============================] - 11s 675ms/step - loss: 0.3481 - accuracy: 0.9647 - val_loss: 0.3824 - val_accuracy: 0.9686\n",
            "Epoch 34/50\n",
            "16/16 [==============================] - ETA: 0s - loss: 0.4460 - accuracy: 0.9686\n",
            "Epoch 34: val_accuracy did not improve from 0.98627\n",
            "16/16 [==============================] - 10s 622ms/step - loss: 0.4460 - accuracy: 0.9686 - val_loss: 0.6308 - val_accuracy: 0.9745\n",
            "Epoch 35/50\n",
            "16/16 [==============================] - ETA: 0s - loss: 0.2440 - accuracy: 0.9706\n",
            "Epoch 35: val_accuracy did not improve from 0.98627\n",
            "16/16 [==============================] - 10s 630ms/step - loss: 0.2440 - accuracy: 0.9706 - val_loss: 0.4593 - val_accuracy: 0.9765\n",
            "Epoch 36/50\n",
            "16/16 [==============================] - ETA: 0s - loss: 0.4160 - accuracy: 0.9804\n",
            "Epoch 36: val_accuracy did not improve from 0.98627\n",
            "16/16 [==============================] - 10s 623ms/step - loss: 0.4160 - accuracy: 0.9804 - val_loss: 0.2944 - val_accuracy: 0.9824\n",
            "Epoch 37/50\n",
            "16/16 [==============================] - ETA: 0s - loss: 0.5570 - accuracy: 0.9784\n",
            "Epoch 37: val_accuracy did not improve from 0.98627\n",
            "16/16 [==============================] - 10s 644ms/step - loss: 0.5570 - accuracy: 0.9784 - val_loss: 0.2207 - val_accuracy: 0.9843\n",
            "Epoch 38/50\n",
            "16/16 [==============================] - ETA: 0s - loss: 0.4286 - accuracy: 0.9804\n",
            "Epoch 38: val_accuracy did not improve from 0.98627\n",
            "16/16 [==============================] - 10s 646ms/step - loss: 0.4286 - accuracy: 0.9804 - val_loss: 0.2747 - val_accuracy: 0.9863\n",
            "Epoch 39/50\n",
            "16/16 [==============================] - ETA: 0s - loss: 0.3460 - accuracy: 0.9765\n",
            "Epoch 39: val_accuracy did not improve from 0.98627\n",
            "16/16 [==============================] - 10s 622ms/step - loss: 0.3460 - accuracy: 0.9765 - val_loss: 0.2792 - val_accuracy: 0.9804\n",
            "Epoch 40/50\n",
            "16/16 [==============================] - ETA: 0s - loss: 0.3791 - accuracy: 0.9765\n",
            "Epoch 40: val_accuracy did not improve from 0.98627\n",
            "16/16 [==============================] - 10s 622ms/step - loss: 0.3791 - accuracy: 0.9765 - val_loss: 0.3430 - val_accuracy: 0.9843\n",
            "Epoch 41/50\n",
            "16/16 [==============================] - ETA: 0s - loss: 0.5897 - accuracy: 0.9745\n",
            "Epoch 41: val_accuracy improved from 0.98627 to 0.98824, saving model to /content/drive/MyDrive/Actual-Dataset/INCEPTIONV#.h5\n",
            "16/16 [==============================] - 11s 718ms/step - loss: 0.5897 - accuracy: 0.9745 - val_loss: 0.2563 - val_accuracy: 0.9882\n",
            "Epoch 42/50\n",
            "16/16 [==============================] - ETA: 0s - loss: 0.6217 - accuracy: 0.9667\n",
            "Epoch 42: val_accuracy did not improve from 0.98824\n",
            "16/16 [==============================] - 10s 639ms/step - loss: 0.6217 - accuracy: 0.9667 - val_loss: 0.0914 - val_accuracy: 0.9863\n",
            "Epoch 43/50\n",
            "16/16 [==============================] - ETA: 0s - loss: 0.6586 - accuracy: 0.9745\n",
            "Epoch 43: val_accuracy did not improve from 0.98824\n",
            "16/16 [==============================] - 10s 637ms/step - loss: 0.6586 - accuracy: 0.9745 - val_loss: 0.3452 - val_accuracy: 0.9804\n",
            "Epoch 44/50\n",
            "16/16 [==============================] - ETA: 0s - loss: 0.1725 - accuracy: 0.9863\n",
            "Epoch 44: val_accuracy did not improve from 0.98824\n",
            "16/16 [==============================] - 10s 624ms/step - loss: 0.1725 - accuracy: 0.9863 - val_loss: 0.2282 - val_accuracy: 0.9804\n",
            "Epoch 45/50\n",
            "16/16 [==============================] - ETA: 0s - loss: 0.6211 - accuracy: 0.9725\n",
            "Epoch 45: val_accuracy did not improve from 0.98824\n",
            "16/16 [==============================] - 10s 624ms/step - loss: 0.6211 - accuracy: 0.9725 - val_loss: 0.1694 - val_accuracy: 0.9804\n",
            "Epoch 46/50\n",
            "16/16 [==============================] - ETA: 0s - loss: 0.7023 - accuracy: 0.9725\n",
            "Epoch 46: val_accuracy did not improve from 0.98824\n",
            "16/16 [==============================] - 10s 634ms/step - loss: 0.7023 - accuracy: 0.9725 - val_loss: 0.7111 - val_accuracy: 0.9627\n",
            "Epoch 47/50\n",
            "16/16 [==============================] - ETA: 0s - loss: 0.4307 - accuracy: 0.9784\n",
            "Epoch 47: val_accuracy did not improve from 0.98824\n",
            "16/16 [==============================] - 10s 622ms/step - loss: 0.4307 - accuracy: 0.9784 - val_loss: 0.5376 - val_accuracy: 0.9784\n",
            "Epoch 48/50\n",
            "16/16 [==============================] - ETA: 0s - loss: 0.3171 - accuracy: 0.9843\n",
            "Epoch 48: val_accuracy did not improve from 0.98824\n",
            "16/16 [==============================] - 10s 624ms/step - loss: 0.3171 - accuracy: 0.9843 - val_loss: 0.2145 - val_accuracy: 0.9824\n",
            "Epoch 49/50\n",
            "16/16 [==============================] - ETA: 0s - loss: 0.2449 - accuracy: 0.9784\n",
            "Epoch 49: val_accuracy did not improve from 0.98824\n",
            "16/16 [==============================] - 10s 633ms/step - loss: 0.2449 - accuracy: 0.9784 - val_loss: 0.4788 - val_accuracy: 0.9765\n",
            "Epoch 50/50\n",
            "16/16 [==============================] - ETA: 0s - loss: 0.5859 - accuracy: 0.9745\n",
            "Epoch 50: val_accuracy did not improve from 0.98824\n",
            "16/16 [==============================] - 10s 628ms/step - loss: 0.5859 - accuracy: 0.9745 - val_loss: 1.1672 - val_accuracy: 0.9471\n"
          ]
        }
      ]
    },
    {
      "cell_type": "code",
      "source": [
        "#Loading Model\n",
        "from tensorflow.keras.models import load_model\n",
        "\n",
        "model = load_model('/content/drive/MyDrive/Actual-Dataset/INCEPTIONV#.h5')"
      ],
      "metadata": {
        "id": "Nkbpvx851xOt"
      },
      "execution_count": 6,
      "outputs": []
    },
    {
      "cell_type": "code",
      "source": [
        "check_acc = model.evaluate_generator(training_set)[1]\n",
        "print('The training accuracy is =', check_acc)"
      ],
      "metadata": {
        "id": "PsQFBgEqafAp"
      },
      "execution_count": null,
      "outputs": []
    },
    {
      "cell_type": "code",
      "source": [
        "# predict probabilities for test set\n",
        "Store = model.predict(test_set)\n",
        "y_pred = np.argmax(Store, axis=1)"
      ],
      "metadata": {
        "id": "Y45Fc0cVpDt7"
      },
      "execution_count": 7,
      "outputs": []
    },
    {
      "cell_type": "code",
      "source": [
        "y_pred"
      ],
      "metadata": {
        "colab": {
          "base_uri": "https://localhost:8080/"
        },
        "id": "QJS49aM5pHC8",
        "outputId": "1a76305a-d40b-4fda-d4e9-cf4f979fb07c"
      },
      "execution_count": 8,
      "outputs": [
        {
          "output_type": "execute_result",
          "data": {
            "text/plain": [
              "array([1, 1, 0, ..., 1, 1, 1])"
            ]
          },
          "metadata": {},
          "execution_count": 8
        }
      ]
    },
    {
      "cell_type": "markdown",
      "source": [
        "Evaluation"
      ],
      "metadata": {
        "id": "YDdlDfKgYoSM"
      }
    },
    {
      "cell_type": "code",
      "source": [
        "# predict probabilities for test set\n",
        "yhat_probs = model.predict(test_set, verbose=0)\n",
        "# predict crisp classes for test set\n",
        "yhat_classes = model.predict_classes(test_set, verbose=0)\n",
        "# reduce to 1d array\n",
        "yhat_probs = yhat_probs[:, 0]\n",
        "yhat_classes = yhat_classes[:, 0]\n",
        " \n",
        "# accuracy: (tp + tn) / (p + n)\n",
        "accuracy = accuracy_score(test_set,yhat_classes)\n",
        "print('Accuracy: %f' % accuracy)\n",
        "# precision tp / (tp + fp)\n",
        "precision = precision_score(test_set,yhat_classes)\n",
        "print('Precision: %f' % precision)\n",
        "# recall: tp / (tp + fn)\n",
        "recall = recall_score(test_set, yhat_classes)\n",
        "print('Recall: %f' % recall)\n",
        "# f1: 2 tp / (2 tp + fp + fn)\n",
        "f1 = f1_score(test_set, yhat_classes)\n",
        "print('F1 score: %f' % f1)\n",
        " \n",
        "# kappa\n",
        "kappa = cohen_kappa_score(test_set, yhat_classes)\n",
        "print('Cohens kappa: %f' % kappa)\n",
        "# ROC AUC\n",
        "auc = roc_auc_score(test_set, yhat_probs)\n",
        "print('ROC AUC: %f' % auc)\n",
        "# confusion matrix\n",
        "matrix = confusion_matrix(test_set, yhat_classes)\n",
        "print(matrix)"
      ],
      "metadata": {
        "colab": {
          "base_uri": "https://localhost:8080/",
          "height": 244
        },
        "id": "zlVhHoldVcM6",
        "outputId": "fd7ee2ff-ef26-4348-dcad-bbd955f67bbb"
      },
      "execution_count": 17,
      "outputs": [
        {
          "output_type": "error",
          "ename": "AttributeError",
          "evalue": "ignored",
          "traceback": [
            "\u001b[0;31m---------------------------------------------------------------------------\u001b[0m",
            "\u001b[0;31mAttributeError\u001b[0m                            Traceback (most recent call last)",
            "\u001b[0;32m<ipython-input-17-7c2643661bae>\u001b[0m in \u001b[0;36m<module>\u001b[0;34m()\u001b[0m\n\u001b[1;32m      2\u001b[0m \u001b[0myhat_probs\u001b[0m \u001b[0;34m=\u001b[0m \u001b[0mmodel\u001b[0m\u001b[0;34m.\u001b[0m\u001b[0mpredict\u001b[0m\u001b[0;34m(\u001b[0m\u001b[0mtest_set\u001b[0m\u001b[0;34m,\u001b[0m \u001b[0mverbose\u001b[0m\u001b[0;34m=\u001b[0m\u001b[0;36m0\u001b[0m\u001b[0;34m)\u001b[0m\u001b[0;34m\u001b[0m\u001b[0;34m\u001b[0m\u001b[0m\n\u001b[1;32m      3\u001b[0m \u001b[0;31m# predict crisp classes for test set\u001b[0m\u001b[0;34m\u001b[0m\u001b[0;34m\u001b[0m\u001b[0;34m\u001b[0m\u001b[0m\n\u001b[0;32m----> 4\u001b[0;31m \u001b[0myhat_classes\u001b[0m \u001b[0;34m=\u001b[0m \u001b[0mmodel\u001b[0m\u001b[0;34m.\u001b[0m\u001b[0mpredict_classes\u001b[0m\u001b[0;34m(\u001b[0m\u001b[0mtest_set\u001b[0m\u001b[0;34m,\u001b[0m \u001b[0mverbose\u001b[0m\u001b[0;34m=\u001b[0m\u001b[0;36m0\u001b[0m\u001b[0;34m)\u001b[0m\u001b[0;34m\u001b[0m\u001b[0;34m\u001b[0m\u001b[0m\n\u001b[0m\u001b[1;32m      5\u001b[0m \u001b[0;31m# reduce to 1d array\u001b[0m\u001b[0;34m\u001b[0m\u001b[0;34m\u001b[0m\u001b[0;34m\u001b[0m\u001b[0m\n\u001b[1;32m      6\u001b[0m \u001b[0myhat_probs\u001b[0m \u001b[0;34m=\u001b[0m \u001b[0myhat_probs\u001b[0m\u001b[0;34m[\u001b[0m\u001b[0;34m:\u001b[0m\u001b[0;34m,\u001b[0m \u001b[0;36m0\u001b[0m\u001b[0;34m]\u001b[0m\u001b[0;34m\u001b[0m\u001b[0;34m\u001b[0m\u001b[0m\n",
            "\u001b[0;31mAttributeError\u001b[0m: 'Functional' object has no attribute 'predict_classes'"
          ]
        }
      ]
    },
    {
      "cell_type": "code",
      "source": [
        "# summarize history for accuracy\n",
        "plt.plot(history.history['accuracy'])\n",
        "plt.plot(history.history['val_accuracy'])\n",
        "plt.title('model accuracy')\n",
        "plt.ylabel('accuracy')\n",
        "plt.xlabel('epoch')\n",
        "plt.legend(['train', 'test'], loc='upper left')\n",
        "#plot to show\n",
        "plt.show()"
      ],
      "metadata": {
        "colab": {
          "base_uri": "https://localhost:8080/",
          "height": 295
        },
        "id": "W5E9j6Htsvwh",
        "outputId": "9e5ab0b5-595f-44bb-b43b-ec0c2d3e2914"
      },
      "execution_count": null,
      "outputs": [
        {
          "output_type": "display_data",
          "data": {
            "text/plain": [
              "<Figure size 432x288 with 1 Axes>"
            ],
            "image/png": "[encoded data removed]"
          },
          "metadata": {
            "needs_background": "light"
          }
        }
      ]
    },
    {
      "cell_type": "code",
      "source": [
        "# summarize history for loss\n",
        "plt.plot(history.history['loss'])\n",
        "plt.plot(history.history['val_loss'])\n",
        "plt.title('model loss')\n",
        "plt.ylabel('loss')\n",
        "plt.xlabel('epoch')\n",
        "plt.legend(['train', 'test'], loc='upper left')\n",
        "plt.show()"
      ],
      "metadata": {
        "colab": {
          "base_uri": "https://localhost:8080/",
          "height": 295
        },
        "id": "2NPFIiGlz9xS",
        "outputId": "84bfab49-20fa-42b7-8129-643ade11ddd6"
      },
      "execution_count": null,
      "outputs": [
        {
          "output_type": "display_data",
          "data": {
            "text/plain": [
              "<Figure size 432x288 with 1 Axes>"
            ],
            "image/png": "[encoded data removed]"
          },
          "metadata": {
            "needs_background": "light"
          }
        }
      ]
    },
    {
      "cell_type": "code",
      "source": [
        "history.history"
      ],
      "metadata": {
        "id": "jABhOSSoz1Ye"
      },
      "execution_count": null,
      "outputs": []
    },
    {
      "cell_type": "code",
      "source": [
        "image_dir=r'/content/drive/MyDrive/RiceLeaf/validation/Healthy/IMG_20190419_094316.jpg'\n",
        "def prediction(image_dir):\n",
        "  img = image.load_img(image_dir, target_size=[256,256])\n",
        "  im= image.img_to_array(img)\n",
        "#i = preprocess_input[img]\n",
        "#np_image_li = np.array([0])\n",
        "#np_image_li.shape\n",
        "  img = np.expand_dims(im, axis=0)\n",
        "  pred =np.argmax(model.predict(img))\n",
        "  print(f'This belongs to class indices =', pred)"
      ],
      "metadata": {
        "id": "BDMjMyrR1PZR"
      },
      "execution_count": null,
      "outputs": []
    },
    {
      "cell_type": "code",
      "source": [
        "prediction(image_dir)"
      ],
      "metadata": {
        "colab": {
          "base_uri": "https://localhost:8080/"
        },
        "id": "Hrh_ZxHQ1csI",
        "outputId": "da651d9c-d0a4-444b-ae0b-7ad0dbf91c74"
      },
      "execution_count": null,
      "outputs": [
        {
          "output_type": "stream",
          "name": "stdout",
          "text": [
            "This belongs to class indices = 1\n"
          ]
        }
      ]
    },
    {
      "cell_type": "code",
      "source": [
        "training_set.class_indices"
      ],
      "metadata": {
        "colab": {
          "base_uri": "https://localhost:8080/"
        },
        "id": "tL_XyVwe1jyQ",
        "outputId": "d6cc28f2-66d9-44ca-e1d0-cf9e2087c8e6"
      },
      "execution_count": null,
      "outputs": [
        {
          "output_type": "execute_result",
          "data": {
            "text/plain": [
              "{'Healthy_Leaves': 0, 'LeafBlast_Disease': 1}"
            ]
          },
          "metadata": {},
          "execution_count": 48
        }
      ]
    }
  ]
}